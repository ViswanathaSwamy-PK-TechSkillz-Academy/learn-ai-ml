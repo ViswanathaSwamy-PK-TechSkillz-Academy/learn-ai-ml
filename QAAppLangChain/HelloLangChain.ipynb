{
 "cells": [
  {
   "cell_type": "code",
   "execution_count": null,
   "metadata": {},
   "outputs": [],
   "source": [
    "!pip install langchain\n",
    "!pip install Openai\n",
    "!pip install huggingface_hub"
   ]
  },
  {
   "cell_type": "code",
   "execution_count": null,
   "metadata": {},
   "outputs": [],
   "source": [
    "import os\n",
    "import openai\n",
    "from dotenv import dotenv_values\n",
    "from langchain.llms import AzureOpenAI  # Import Azure OpenAI\n",
    "from langchain.llms import HuggingFaceHub\n",
    "\n",
    "# Load config values\n",
    "config_details = dotenv_values(\".env\")\n",
    "\n",
    "########################################### Azure Open AI ###########################################\n",
    "openai.api_type = \"azure\"\n",
    "openai.api_base = config_details['OPENAI_API_BASE']\n",
    "openai.api_version = config_details['OPENAI_API_VERSION']\n",
    "openai.api_key = os.getenv(\"OPENAI_API_KEY\")\n",
    "\n",
    "# Create an instance of Azure OpenAI # Replace the deployment name with your own\n",
    "llm = AzureOpenAI(deployment_name=config_details['COMPLETIONS_MODEL'])\n",
    "\n",
    "user_prompt = \"Write a small tweet for twitter; on my Dosa Center. 1001 varities, home made spices, butter, and lots of love. I need 2 tweets.\"\n",
    "\n",
    "output = llm(user_prompt, max_tokens=150, temperature=1.0, top_p=0.5,\n",
    "             frequency_penalty=0.0, presence_penalty=0.0, stop=None)\n",
    "\n",
    "print(f'Output using Azure Open AI: {output}')\n",
    "\n",
    "########################################### Hugging Face Hub ###########################################\n",
    "# Create an instance of Hugging Face Hub\n",
    "os.environ[\"HUGGINGFACEHUB_API_TOKEN\"] = config_details[\"HUGGINGFACEHUB_API_TOKEN\"]\n",
    "\n",
    "llm = HuggingFaceHub(repo_id=config_details['HUGGINGFACEHUB_GOOGLE_REPO_ID'])\n",
    "\n",
    "user_prompt = \"Which is the tallest building in Hyderabad?\"\n",
    "\n",
    "output = llm(user_prompt)\n",
    "\n",
    "print(f'User Prompt to Hugging Face Hub: {user_prompt}')\n",
    "print(f'Output using Hugging Face Hub: {output}')"
   ]
  }
 ],
 "metadata": {
  "kernelspec": {
   "display_name": "Python 3",
   "language": "python",
   "name": "python3"
  },
  "language_info": {
   "codemirror_mode": {
    "name": "ipython",
    "version": 3
   },
   "file_extension": ".py",
   "mimetype": "text/x-python",
   "name": "python",
   "nbconvert_exporter": "python",
   "pygments_lexer": "ipython3",
   "version": "3.11.6"
  }
 },
 "nbformat": 4,
 "nbformat_minor": 2
}
